{
 "cells": [
  {
   "cell_type": "markdown",
   "metadata": {},
   "source": [
    "## Termodinámica Resumiendo"
   ]
  },
  {
   "cell_type": "markdown",
   "metadata": {},
   "source": [
    "### Primera Ley de la Termodinámica y Entalpía"
   ]
  },
  {
   "cell_type": "markdown",
   "metadata": {},
   "source": [
    "$\\Delta U = Q + W$"
   ]
  },
  {
   "cell_type": "markdown",
   "metadata": {},
   "source": [
    "Isotérmico : $\\Delta U = W$ \\\n",
    "Isocórico : $\\Delta U = q_v$ \\\n",
    "Isobárico: $\\Delta U = q_p+ P\\Delta V$"
   ]
  },
  {
   "cell_type": "markdown",
   "metadata": {},
   "source": [
    "Del proceso Isobárico: $\\Delta U - P\\Delta V = q_p = \\Delta H$, Entalpía, la transferencia de calor a presión constante\\\n",
    "Que en forma de función de estado se escribe $H = U + PV$"
   ]
  },
  {
   "cell_type": "markdown",
   "metadata": {},
   "source": [
    "#### Capacidad calorífica $\\textbf{C}$"
   ]
  },
  {
   "cell_type": "markdown",
   "metadata": {},
   "source": [
    " La capacidad calorífica, $C$, de un sistema es la relación entre el $q$ entregado o cedido por el sistema y el cambio de temperatura del mismo. Por lo tanto solo es utilizable ante una transferencia de calor que provoque cambio de temperatura (no de fase)"
   ]
  },
  {
   "cell_type": "markdown",
   "metadata": {},
   "source": [
    "$C=\\frac{\\partial q}{\\partial T}$ o $\\frac{q}{\\Delta T}$"
   ]
  },
  {
   "cell_type": "markdown",
   "metadata": {},
   "source": [
    "Como un sistema termodinámico depende de P, V y T, un cambio de estado de $1\\rightarrow 2$ quedará descrito conociendo 2 variables. Si se conoce las variables actuales $V_1$, $P_1$ y $T_1$ y se quiere encontrar el cambio de estado de temperatura de $T_1\\rightarrow T_2$ se necesitará conocer $P_2$ o $V_2$ para describir el cambio. Lo anterior se realiza en la práctica asumiendo P o V constante."
   ]
  },
  {
   "cell_type": "markdown",
   "metadata": {},
   "source": [
    "Así se obtiene la capacidad calorifica a volumen constante $C_v = (\\frac{\\partial q}{\\partial T})_v$ y la capacidad calorífica a presión constante $C_p = (\\frac{\\partial q}{\\partial T})_p$"
   ]
  },
  {
   "cell_type": "markdown",
   "metadata": {},
   "source": [
    "La capacidad calorífica es una propiedad extensiva. En la práctica es más común su uso en forma intensiva como Calor específico $\\textbf{c}$ el que también puede ser molar. Es decir $n\\times c = C$"
   ]
  },
  {
   "cell_type": "markdown",
   "metadata": {},
   "source": [
    "Entonces:\\\n",
    "$dU = n c_v dT$, proceso a volumen constante\\\n",
    "$dH = n c_p dT$, proceso a presión constante"
   ]
  },
  {
   "cell_type": "markdown",
   "metadata": {},
   "source": [
    "Y se entiende que $c_p > c_v$ ya que este aumenta la temperatura y genera trabajo (a presión constante), mientras que el segundo solo aumenta la temperatura (energía interna)."
   ]
  },
  {
   "cell_type": "markdown",
   "metadata": {},
   "source": [
    "Y finalmente se deduce que: \\\n",
    "$\\Delta U = \\int n c_v dT$ \\\n",
    "$\\Delta H = \\int n c_p dT$."
   ]
  }
 ],
 "metadata": {
  "kernelspec": {
   "display_name": "Python 3.10.8 64-bit (microsoft store)",
   "language": "python",
   "name": "python3"
  },
  "language_info": {
   "codemirror_mode": {
    "name": "ipython",
    "version": 3
   },
   "file_extension": ".py",
   "mimetype": "text/x-python",
   "name": "python",
   "nbconvert_exporter": "python",
   "pygments_lexer": "ipython3",
   "version": "3.10.8"
  },
  "orig_nbformat": 4,
  "vscode": {
   "interpreter": {
    "hash": "76b7af52e90843776ded1ef99ecb80dcd9323eebdce9efd54da272c0d3ecbef2"
   }
  }
 },
 "nbformat": 4,
 "nbformat_minor": 2
}
